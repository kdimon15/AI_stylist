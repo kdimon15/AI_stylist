{
 "cells": [
  {
   "cell_type": "code",
   "execution_count": null,
   "metadata": {},
   "outputs": [],
   "source": [
    "!apt-get install tree"
   ]
  },
  {
   "cell_type": "code",
   "execution_count": null,
   "metadata": {},
   "outputs": [],
   "source": [
    "!maskrcnn-modanet datasets download ./tmp\n",
    "!cp -r tmp/datasets/coco/images ./\n",
    "!rm -rf tmp"
   ]
  },
  {
   "cell_type": "code",
   "execution_count": null,
   "metadata": {},
   "outputs": [],
   "source": [
    "import cv2\n",
    "import face_recognition\n",
    "import torch\n",
    "import os\n",
    "from tqdm.notebook import tqdm"
   ]
  },
  {
   "cell_type": "code",
   "execution_count": null,
   "metadata": {},
   "outputs": [],
   "source": [
    "model = torch.hub.load('ultralytics/yolov5', 'custom', path='Weights/best.pt')\n",
    "model.conf = 0.5"
   ]
  },
  {
   "cell_type": "code",
   "execution_count": null,
   "metadata": {},
   "outputs": [],
   "source": [
    "classes = ['bag', 'belt', 'boots', 'footwear', 'outer', 'dress', 'sunglasses', 'pants', 'top', 'shorts', 'skirt', 'headwear', 'scarf/tie']"
   ]
  },
  {
   "cell_type": "code",
   "execution_count": null,
   "metadata": {},
   "outputs": [],
   "source": [
    "!mkdir preprocessed_dataset\n",
    "count = 0\n",
    "for image_path in tqdm(os.listdir('images')):\n",
    "    path = f'images/{image_path}'\n",
    "    imgs =[path]\n",
    "    result = model(imgs)\n",
    "    clothes = result.xyxy[0].cpu().numpy().astype(int)\n",
    "\n",
    "    image = cv2.imread(path)\n",
    "    image = cv2.cvtColor(image, cv2.COLOR_BGR2RGB)\n",
    "    face_location = face_recognition.face_locations(image)\n",
    "    image = cv2.cvtColor(image, cv2.COLOR_RGB2BGR)\n",
    "\n",
    "    clothes_images = [image[pred[1]:pred[3], pred[0]:pred[2]] for pred in clothes]\n",
    "\n",
    "    if len(face_location) == 1 and len(clothes_images) > 0:\n",
    "        count += 1\n",
    "        os.makedirs(f'preprocessed_dataset/{count}', exist_ok=True)\n",
    "        face_image = image[face_location[0][0]:face_location[0][2],face_location[0][3]:face_location[0][1]]\n",
    "        cv2.imwrite(f'preprocessed_dataset/{count}/face.jpg', face_image)\n",
    "        for i in range(len(clothes_images)):\n",
    "            cv2.imwrite(f'preprocessed_dataset/{count}/{i}.jpg', clothes_images[i])\n",
    "!rm -rf images"
   ]
  }
 ],
 "metadata": {
  "kernelspec": {
   "display_name": "Python 3",
   "language": "python",
   "name": "python3"
  },
  "language_info": {
   "codemirror_mode": {
    "name": "ipython",
    "version": 3
   },
   "file_extension": ".py",
   "mimetype": "text/x-python",
   "name": "python",
   "nbconvert_exporter": "python",
   "pygments_lexer": "ipython3",
   "version": "3.8.5"
  }
 },
 "nbformat": 4,
 "nbformat_minor": 4
}
